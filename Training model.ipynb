{
 "cells": [
  {
   "cell_type": "code",
   "execution_count": 1,
   "id": "b1c4c80b",
   "metadata": {},
   "outputs": [],
   "source": [
    "import pickle\n",
    "import time"
   ]
  },
  {
   "cell_type": "code",
   "execution_count": 2,
   "id": "5423b583",
   "metadata": {},
   "outputs": [],
   "source": [
    "X = pickle.load(open('X.pkl', 'rb'))\n",
    "y = pickle.load(open('Y.pkl', 'rb'))"
   ]
  },
  {
   "cell_type": "code",
   "execution_count": 3,
   "id": "eb463d7d",
   "metadata": {},
   "outputs": [],
   "source": [
    "X = X/255"
   ]
  },
  {
   "cell_type": "code",
   "execution_count": 4,
   "id": "fbeba739",
   "metadata": {},
   "outputs": [
    {
     "data": {
      "text/plain": [
       "array([[[0.78823529, 0.44313725, 0.4627451 , ..., 0.76862745,\n",
       "         0.42745098, 0.56862745],\n",
       "        [0.80392157, 0.81568627, 0.79215686, ..., 0.79215686,\n",
       "         0.78431373, 0.80784314],\n",
       "        [0.82745098, 0.77254902, 0.83137255, ..., 0.8       ,\n",
       "         0.81176471, 0.81960784],\n",
       "        ...,\n",
       "        [0.80784314, 0.79215686, 0.84313725, ..., 0.40392157,\n",
       "         0.41176471, 0.79607843],\n",
       "        [0.79607843, 0.76862745, 0.80392157, ..., 0.41568627,\n",
       "         0.37647059, 0.80392157],\n",
       "        [0.8       , 0.8       , 0.76470588, ..., 0.40392157,\n",
       "         0.39215686, 0.77647059]],\n",
       "\n",
       "       [[0.62352941, 0.65490196, 0.63529412, ..., 0.67058824,\n",
       "         0.65882353, 0.65882353],\n",
       "        [0.64705882, 0.66666667, 0.62745098, ..., 0.65882353,\n",
       "         0.64313725, 0.64313725],\n",
       "        [0.64705882, 0.65882353, 0.61960784, ..., 0.63137255,\n",
       "         0.62352941, 0.61568627],\n",
       "        ...,\n",
       "        [0.62352941, 0.57254902, 0.54117647, ..., 0.64313725,\n",
       "         0.64705882, 0.64705882],\n",
       "        [0.29803922, 0.40392157, 0.61176471, ..., 0.65098039,\n",
       "         0.64313725, 0.64313725],\n",
       "        [0.3372549 , 0.3372549 , 0.27058824, ..., 0.6627451 ,\n",
       "         0.65882353, 0.66666667]],\n",
       "\n",
       "       [[0.7372549 , 0.7372549 , 0.71764706, ..., 0.80784314,\n",
       "         0.6627451 , 0.80784314],\n",
       "        [0.90196078, 0.72941176, 0.74117647, ..., 0.7254902 ,\n",
       "         0.71372549, 0.75294118],\n",
       "        [0.82352941, 0.77647059, 0.7372549 , ..., 0.74117647,\n",
       "         0.69411765, 0.80784314],\n",
       "        ...,\n",
       "        [0.70588235, 0.66666667, 0.61176471, ..., 0.69019608,\n",
       "         0.69803922, 0.71372549],\n",
       "        [0.6627451 , 0.65098039, 0.61960784, ..., 0.70980392,\n",
       "         0.68627451, 0.70196078],\n",
       "        [0.64705882, 0.63921569, 0.63137255, ..., 0.70196078,\n",
       "         0.69803922, 0.68235294]],\n",
       "\n",
       "       ...,\n",
       "\n",
       "       [[0.07058824, 0.07843137, 0.07843137, ..., 0.16862745,\n",
       "         0.12156863, 0.12941176],\n",
       "        [0.05882353, 0.08627451, 0.10196078, ..., 0.14509804,\n",
       "         0.12156863, 0.12941176],\n",
       "        [0.06666667, 0.09411765, 0.07843137, ..., 0.13333333,\n",
       "         0.12156863, 0.12156863],\n",
       "        ...,\n",
       "        [0.65882353, 0.73333333, 0.77254902, ..., 0.4       ,\n",
       "         0.4       , 0.45882353],\n",
       "        [0.60784314, 0.63921569, 0.83529412, ..., 0.39215686,\n",
       "         0.4       , 0.5372549 ],\n",
       "        [0.6627451 , 0.58431373, 0.78823529, ..., 0.38039216,\n",
       "         0.37647059, 0.5254902 ]],\n",
       "\n",
       "       [[0.12156863, 0.1372549 , 0.14509804, ..., 0.58823529,\n",
       "         0.23529412, 0.73333333],\n",
       "        [0.11372549, 0.13333333, 0.14117647, ..., 0.28235294,\n",
       "         0.82745098, 0.54901961],\n",
       "        [0.11764706, 0.1254902 , 0.12941176, ..., 0.12941176,\n",
       "         0.89411765, 0.65490196],\n",
       "        ...,\n",
       "        [0.47058824, 0.50588235, 0.32941176, ..., 0.3254902 ,\n",
       "         0.54117647, 0.31372549],\n",
       "        [0.52941176, 0.54117647, 0.43921569, ..., 0.3372549 ,\n",
       "         0.58039216, 0.30980392],\n",
       "        [0.58823529, 0.48627451, 0.40392157, ..., 0.59215686,\n",
       "         0.52941176, 0.28235294]],\n",
       "\n",
       "       [[0.00392157, 0.00392157, 0.00392157, ..., 0.05098039,\n",
       "         0.02352941, 0.05882353],\n",
       "        [0.00392157, 0.00392157, 0.00392157, ..., 0.04313725,\n",
       "         0.04705882, 0.07058824],\n",
       "        [0.00392157, 0.00392157, 0.00392157, ..., 0.14117647,\n",
       "         0.03921569, 0.05490196],\n",
       "        ...,\n",
       "        [0.92156863, 0.82352941, 0.84313725, ..., 0.20784314,\n",
       "         0.20784314, 0.21176471],\n",
       "        [0.80784314, 0.81568627, 0.84313725, ..., 0.23529412,\n",
       "         0.17647059, 0.22745098],\n",
       "        [0.79607843, 0.79215686, 0.85490196, ..., 0.24313725,\n",
       "         0.21960784, 0.19215686]]])"
      ]
     },
     "execution_count": 4,
     "metadata": {},
     "output_type": "execute_result"
    }
   ],
   "source": [
    "X"
   ]
  },
  {
   "cell_type": "code",
   "execution_count": 5,
   "id": "af0c7dd4",
   "metadata": {},
   "outputs": [
    {
     "data": {
      "text/plain": [
       "(23000, 60, 60)"
      ]
     },
     "execution_count": 5,
     "metadata": {},
     "output_type": "execute_result"
    }
   ],
   "source": [
    "X.shape"
   ]
  },
  {
   "cell_type": "code",
   "execution_count": 17,
   "id": "3742c579",
   "metadata": {},
   "outputs": [],
   "source": [
    "X = X.reshape(-1, 60, 60, 1)"
   ]
  },
  {
   "cell_type": "code",
   "execution_count": 18,
   "id": "01feb994",
   "metadata": {},
   "outputs": [],
   "source": [
    "from tensorflow.keras.models import Sequential\n",
    "from tensorflow.keras.layers import Conv2D, MaxPooling2D, Dense, Flatten\n",
    "from tensorflow.keras.callbacks import TensorBoard"
   ]
  },
  {
   "cell_type": "code",
   "execution_count": 19,
   "id": "0889a567",
   "metadata": {},
   "outputs": [],
   "source": [
    "NAME = f'cat-dog-prediciton-{int(time.time())}'\n",
    "tensorboard = TensorBoard(log_dir = 'logs\\\\{}'.format(NAME))"
   ]
  },
  {
   "cell_type": "code",
   "execution_count": 23,
   "id": "53c8a538",
   "metadata": {},
   "outputs": [],
   "source": [
    "model = Sequential()\n",
    "\n",
    "model.add(Conv2D(64, (3,3), activation = 'relu'))\n",
    "model.add(MaxPooling2D((2,2)))\n",
    "\n",
    "model.add(Conv2D(64, (3,3), activation = 'relu'))\n",
    "model.add(MaxPooling2D((2,2)))\n",
    "\n",
    "model.add(Conv2D(64, (3,3), activation = 'relu'))\n",
    "model.add(MaxPooling2D((2,2))) \n",
    "\n",
    "model.add(Flatten())\n",
    "\n",
    "model.add(Dense(128, input_shape = X.shape[1:], activation = 'relu'))\n",
    "\n",
    "model.add(Dense(2, activation = 'softmax'))"
   ]
  },
  {
   "cell_type": "code",
   "execution_count": 24,
   "id": "ffc35bf2",
   "metadata": {},
   "outputs": [],
   "source": [
    "model.compile(optimizer='adam',\n",
    "              loss='sparse_categorical_crossentropy',\n",
    "              metrics=['accuracy'])"
   ]
  },
  {
   "cell_type": "code",
   "execution_count": 25,
   "id": "44dd3147",
   "metadata": {
    "scrolled": false
   },
   "outputs": [
    {
     "name": "stdout",
     "output_type": "stream",
     "text": [
      "Epoch 1/8\n",
      "647/647 [==============================] - 86s 131ms/step - loss: 0.6364 - accuracy: 0.6174 - val_loss: 0.5672 - val_accuracy: 0.7109\n",
      "Epoch 2/8\n",
      "647/647 [==============================] - 86s 133ms/step - loss: 0.5128 - accuracy: 0.7487 - val_loss: 0.4763 - val_accuracy: 0.7722\n",
      "Epoch 3/8\n",
      "647/647 [==============================] - 83s 128ms/step - loss: 0.4494 - accuracy: 0.7889 - val_loss: 0.4539 - val_accuracy: 0.7978\n",
      "Epoch 4/8\n",
      "647/647 [==============================] - 83s 128ms/step - loss: 0.3953 - accuracy: 0.8176 - val_loss: 0.3933 - val_accuracy: 0.8296\n",
      "Epoch 5/8\n",
      "647/647 [==============================] - 84s 130ms/step - loss: 0.3506 - accuracy: 0.8444 - val_loss: 0.3978 - val_accuracy: 0.8261\n",
      "Epoch 6/8\n",
      "647/647 [==============================] - 86s 133ms/step - loss: 0.3120 - accuracy: 0.8636 - val_loss: 0.3789 - val_accuracy: 0.8330\n",
      "Epoch 7/8\n",
      "647/647 [==============================] - 83s 129ms/step - loss: 0.2764 - accuracy: 0.8793 - val_loss: 0.3891 - val_accuracy: 0.8296\n",
      "Epoch 8/8\n",
      "647/647 [==============================] - 84s 130ms/step - loss: 0.2345 - accuracy: 0.9018 - val_loss: 0.4048 - val_accuracy: 0.8348\n"
     ]
    },
    {
     "data": {
      "text/plain": [
       "<keras.src.callbacks.History at 0x268a9b42c10>"
      ]
     },
     "execution_count": 25,
     "metadata": {},
     "output_type": "execute_result"
    }
   ],
   "source": [
    "model.fit(X, y, epochs=8, batch_size = 32, validation_split=0.1, callbacks = [tensorboard])"
   ]
  },
  {
   "cell_type": "code",
   "execution_count": 26,
   "id": "d7943ebc",
   "metadata": {},
   "outputs": [
    {
     "name": "stdout",
     "output_type": "stream",
     "text": [
      "INFO:tensorflow:Assets written to: catdog.model\\assets\n"
     ]
    },
    {
     "name": "stderr",
     "output_type": "stream",
     "text": [
      "INFO:tensorflow:Assets written to: catdog.model\\assets\n"
     ]
    }
   ],
   "source": [
    "from tensorflow.keras.models import load_model\n",
    "model.build(input_shape=X.shape[1:])\n",
    "\n",
    "model.save('catdog.model')"
   ]
  },
  {
   "cell_type": "code",
   "execution_count": null,
   "id": "083f6155",
   "metadata": {},
   "outputs": [],
   "source": []
  }
 ],
 "metadata": {
  "kernelspec": {
   "display_name": "Python 3 (ipykernel)",
   "language": "python",
   "name": "python3"
  },
  "language_info": {
   "codemirror_mode": {
    "name": "ipython",
    "version": 3
   },
   "file_extension": ".py",
   "mimetype": "text/x-python",
   "name": "python",
   "nbconvert_exporter": "python",
   "pygments_lexer": "ipython3",
   "version": "3.11.1"
  }
 },
 "nbformat": 4,
 "nbformat_minor": 5
}
